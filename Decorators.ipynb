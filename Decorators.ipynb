{
 "cells": [
  {
   "cell_type": "markdown",
   "id": "42b49ea9",
   "metadata": {},
   "source": [
    "# Decorators"
   ]
  },
  {
   "cell_type": "code",
   "execution_count": 1,
   "id": "8d44fd46",
   "metadata": {},
   "outputs": [],
   "source": [
    "def decorator_func(func):\n",
    "    def wrapper_func():\n",
    "        print('X'*20)\n",
    "        func()\n",
    "        print('Y'*20)\n",
    "    return wrapper_func"
   ]
  },
  {
   "cell_type": "code",
   "execution_count": 2,
   "id": "e777dffd",
   "metadata": {},
   "outputs": [],
   "source": [
    "def say_hello():\n",
    "    print('Hello World')"
   ]
  },
  {
   "cell_type": "code",
   "execution_count": 3,
   "id": "ad78367b",
   "metadata": {},
   "outputs": [
    {
     "name": "stdout",
     "output_type": "stream",
     "text": [
      "Hello World\n"
     ]
    }
   ],
   "source": [
    "say_hello()"
   ]
  },
  {
   "cell_type": "code",
   "execution_count": 4,
   "id": "784047d2",
   "metadata": {},
   "outputs": [
    {
     "name": "stdout",
     "output_type": "stream",
     "text": [
      "XXXXXXXXXXXXXXXXXXXX\n",
      "Hello World\n",
      "YYYYYYYYYYYYYYYYYYYY\n"
     ]
    }
   ],
   "source": [
    "hello = decorator_func(say_hello)\n",
    "hello()"
   ]
  },
  {
   "cell_type": "code",
   "execution_count": 6,
   "id": "1e0a061d",
   "metadata": {},
   "outputs": [
    {
     "name": "stdout",
     "output_type": "stream",
     "text": [
      "XXXXXXXXXXXXXXXXXXXX\n",
      "Hello World\n",
      "YYYYYYYYYYYYYYYYYYYY\n"
     ]
    }
   ],
   "source": [
    "@decorator_func\n",
    "def say_hello():\n",
    "    print('Hello World')\n",
    "    \n",
    "say_hello()"
   ]
  },
  {
   "cell_type": "code",
   "execution_count": 7,
   "id": "c5ae5cd5",
   "metadata": {},
   "outputs": [],
   "source": [
    "def decorator_X(func):\n",
    "    def wrapper_func():\n",
    "        print('X'*20)\n",
    "        func()\n",
    "        print('X'*20)\n",
    "    return wrapper_func"
   ]
  },
  {
   "cell_type": "code",
   "execution_count": 8,
   "id": "1fcf23c1",
   "metadata": {},
   "outputs": [],
   "source": [
    "def decorator_Y(func):\n",
    "    def wrapper_func():\n",
    "        print('Y'*20)\n",
    "        func()\n",
    "        print('Y'*20)\n",
    "    return wrapper_func"
   ]
  },
  {
   "cell_type": "code",
   "execution_count": 9,
   "id": "731e66af",
   "metadata": {},
   "outputs": [
    {
     "name": "stdout",
     "output_type": "stream",
     "text": [
      "XXXXXXXXXXXXXXXXXXXX\n",
      "YYYYYYYYYYYYYYYYYYYY\n",
      "Hello world\n",
      "YYYYYYYYYYYYYYYYYYYY\n",
      "XXXXXXXXXXXXXXXXXXXX\n"
     ]
    }
   ],
   "source": [
    "@decorator_X\n",
    "@decorator_Y\n",
    "def say_hello():\n",
    "    print('Hello world')\n",
    "    \n",
    "say_hello()"
   ]
  },
  {
   "cell_type": "code",
   "execution_count": 10,
   "id": "66f818d6",
   "metadata": {},
   "outputs": [
    {
     "name": "stdout",
     "output_type": "stream",
     "text": [
      "YYYYYYYYYYYYYYYYYYYY\n",
      "XXXXXXXXXXXXXXXXXXXX\n",
      "Hello world\n",
      "XXXXXXXXXXXXXXXXXXXX\n",
      "YYYYYYYYYYYYYYYYYYYY\n"
     ]
    }
   ],
   "source": [
    "@decorator_Y\n",
    "@decorator_X\n",
    "def say_hello():\n",
    "    print('Hello world')\n",
    "    \n",
    "say_hello()"
   ]
  },
  {
   "cell_type": "code",
   "execution_count": 42,
   "id": "f6d64c35",
   "metadata": {},
   "outputs": [],
   "source": [
    "def decorator_divide(func):\n",
    "    def wrapper_func(a,b):\n",
    "        print('Divide',a,'and',b)\n",
    "        if b ==0 :\n",
    "            print('Division of zero is not allowed')\n",
    "            return \n",
    "        return a/b\n",
    "    return wrapper_func"
   ]
  },
  {
   "cell_type": "code",
   "execution_count": 43,
   "id": "9dc5c397",
   "metadata": {},
   "outputs": [],
   "source": [
    "@decorator_divide\n",
    "def divide(x,y):\n",
    "    \n",
    "    return x/y"
   ]
  },
  {
   "cell_type": "code",
   "execution_count": 44,
   "id": "616c0112",
   "metadata": {},
   "outputs": [
    {
     "name": "stdout",
     "output_type": "stream",
     "text": [
      "Divide 15 and 5\n"
     ]
    },
    {
     "data": {
      "text/plain": [
       "3.0"
      ]
     },
     "execution_count": 44,
     "metadata": {},
     "output_type": "execute_result"
    }
   ],
   "source": [
    "divide(15,5)"
   ]
  },
  {
   "cell_type": "code",
   "execution_count": 45,
   "id": "119e8610",
   "metadata": {},
   "outputs": [
    {
     "name": "stdout",
     "output_type": "stream",
     "text": [
      "Divide 22 and 0\n",
      "Division of zero is not allowed\n"
     ]
    }
   ],
   "source": [
    "divide(22,0)"
   ]
  },
  {
   "cell_type": "code",
   "execution_count": 59,
   "id": "aecc786b",
   "metadata": {},
   "outputs": [],
   "source": [
    "from time import time\n",
    "def timing(func):\n",
    "    def wrapper_func(*args,**kwargs): #args, kwargs make indepented \n",
    "        start = time()\n",
    "        result = func(*args,**kwargs)\n",
    "        end = time()\n",
    "        print('Elapsed time: {}'.format(end-start))\n",
    "        \n",
    "        return result\n",
    "    return wrapper_func"
   ]
  },
  {
   "cell_type": "code",
   "execution_count": 60,
   "id": "665f2690",
   "metadata": {},
   "outputs": [],
   "source": [
    "@timing\n",
    "def my_func(num):\n",
    "    sum = 0\n",
    "    for i in range(1,num):\n",
    "        sum=+i\n",
    "    return sum"
   ]
  },
  {
   "cell_type": "code",
   "execution_count": 64,
   "id": "d2ba43b9",
   "metadata": {},
   "outputs": [
    {
     "name": "stdout",
     "output_type": "stream",
     "text": [
      "Elapsed time: 0.015993595123291016\n"
     ]
    },
    {
     "data": {
      "text/plain": [
       "199999"
      ]
     },
     "execution_count": 64,
     "metadata": {},
     "output_type": "execute_result"
    }
   ],
   "source": [
    "my_func(200000)"
   ]
  },
  {
   "cell_type": "code",
   "execution_count": null,
   "id": "e539bfa7",
   "metadata": {},
   "outputs": [],
   "source": []
  }
 ],
 "metadata": {
  "kernelspec": {
   "display_name": "Python 3 (ipykernel)",
   "language": "python",
   "name": "python3"
  },
  "language_info": {
   "codemirror_mode": {
    "name": "ipython",
    "version": 3
   },
   "file_extension": ".py",
   "mimetype": "text/x-python",
   "name": "python",
   "nbconvert_exporter": "python",
   "pygments_lexer": "ipython3",
   "version": "3.9.7"
  }
 },
 "nbformat": 4,
 "nbformat_minor": 5
}
