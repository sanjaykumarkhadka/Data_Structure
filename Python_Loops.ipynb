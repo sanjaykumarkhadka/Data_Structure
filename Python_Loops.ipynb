{
 "cells": [
  {
   "cell_type": "markdown",
   "id": "fa4f94e0",
   "metadata": {},
   "source": [
    "# while loop"
   ]
  },
  {
   "cell_type": "code",
   "execution_count": 1,
   "id": "edde0c64",
   "metadata": {},
   "outputs": [
    {
     "name": "stdout",
     "output_type": "stream",
     "text": [
      "the value of i 0\n",
      "the value of i 1\n",
      "the value of i 2\n",
      "the value of i 3\n",
      "the value of i 4\n",
      "Finished while loop\n"
     ]
    }
   ],
   "source": [
    "i = 0\n",
    "while i <5:\n",
    "    print('the value of i',i)\n",
    "    i+=1\n",
    "print('Finished while loop')"
   ]
  },
  {
   "cell_type": "code",
   "execution_count": 2,
   "id": "26e08b71",
   "metadata": {},
   "outputs": [
    {
     "name": "stdout",
     "output_type": "stream",
     "text": [
      "Enter a Number. Please Enter 0 to exit !\n",
      "Number ?4\n",
      "sum =  4.0\n",
      "Number ?5\n",
      "sum =  9.0\n",
      "Number ?6\n",
      "sum =  15.0\n",
      "Number ?7\n",
      "sum =  22.0\n",
      "Number ?8\n",
      "sum =  30.0\n",
      "Number ?9\n",
      "sum =  39.0\n",
      "Number ?0\n",
      "sum =  39.0\n",
      "Finished Sum\n"
     ]
    }
   ],
   "source": [
    "num = 1\n",
    "sum = 0\n",
    "print(\"Enter a Number. Please Enter 0 to exit !\")\n",
    "\n",
    "while num != 0:\n",
    "    \n",
    "    num = float(input(\"Number ?\"))\n",
    "    sum = sum + num\n",
    "    print('sum = ',sum)\n",
    "else :\n",
    "    print('Finished Sum')"
   ]
  },
  {
   "cell_type": "markdown",
   "id": "c3fba12a",
   "metadata": {},
   "source": [
    "# For loop"
   ]
  },
  {
   "cell_type": "code",
   "execution_count": 11,
   "id": "38e1710b",
   "metadata": {},
   "outputs": [],
   "source": [
    "A = [0,1,2,3,4,5] #list\n",
    "B = (0,1,2,3,4,5) # tuple\n",
    "C = {0,1,2,3,4,5} #set\n",
    "D = '012345' #string\n",
    "E = { 'name' : 'max', #Dictionary\n",
    "     'age' : 22\n",
    "    }"
   ]
  },
  {
   "cell_type": "code",
   "execution_count": 12,
   "id": "d673d35e",
   "metadata": {},
   "outputs": [
    {
     "data": {
      "text/plain": [
       "True"
      ]
     },
     "execution_count": 12,
     "metadata": {},
     "output_type": "execute_result"
    }
   ],
   "source": [
    "1 in A"
   ]
  },
  {
   "cell_type": "code",
   "execution_count": 13,
   "id": "32ee8e29",
   "metadata": {},
   "outputs": [
    {
     "data": {
      "text/plain": [
       "True"
      ]
     },
     "execution_count": 13,
     "metadata": {},
     "output_type": "execute_result"
    }
   ],
   "source": [
    "2 in B"
   ]
  },
  {
   "cell_type": "code",
   "execution_count": 14,
   "id": "b783aeea",
   "metadata": {},
   "outputs": [
    {
     "data": {
      "text/plain": [
       "True"
      ]
     },
     "execution_count": 14,
     "metadata": {},
     "output_type": "execute_result"
    }
   ],
   "source": [
    "5 in C"
   ]
  },
  {
   "cell_type": "code",
   "execution_count": 15,
   "id": "d9d31960",
   "metadata": {},
   "outputs": [
    {
     "data": {
      "text/plain": [
       "True"
      ]
     },
     "execution_count": 15,
     "metadata": {},
     "output_type": "execute_result"
    }
   ],
   "source": [
    "'1' in D"
   ]
  },
  {
   "cell_type": "code",
   "execution_count": 17,
   "id": "4a5ef05b",
   "metadata": {},
   "outputs": [
    {
     "name": "stdout",
     "output_type": "stream",
     "text": [
      "0\n",
      "1\n",
      "2\n",
      "3\n",
      "4\n",
      "5\n"
     ]
    }
   ],
   "source": [
    "for x in A:\n",
    "    print(x)"
   ]
  },
  {
   "cell_type": "code",
   "execution_count": 18,
   "id": "f8629403",
   "metadata": {},
   "outputs": [
    {
     "name": "stdout",
     "output_type": "stream",
     "text": [
      "0\n",
      "1\n",
      "2\n",
      "3\n",
      "4\n",
      "5\n"
     ]
    }
   ],
   "source": [
    "for x in B:\n",
    "    print(x)"
   ]
  },
  {
   "cell_type": "code",
   "execution_count": 21,
   "id": "28bd51f2",
   "metadata": {},
   "outputs": [
    {
     "name": "stdout",
     "output_type": "stream",
     "text": [
      "0\n",
      "1\n",
      "2\n",
      "3\n",
      "4\n",
      "5\n"
     ]
    }
   ],
   "source": [
    "for x in C:\n",
    "    print(x)"
   ]
  },
  {
   "cell_type": "code",
   "execution_count": 22,
   "id": "e242073f",
   "metadata": {},
   "outputs": [
    {
     "name": "stdout",
     "output_type": "stream",
     "text": [
      "0\n",
      "1\n",
      "2\n",
      "3\n",
      "4\n",
      "5\n"
     ]
    }
   ],
   "source": [
    "for x in D:\n",
    "    print(x)"
   ]
  },
  {
   "cell_type": "code",
   "execution_count": 24,
   "id": "06150cc8",
   "metadata": {},
   "outputs": [
    {
     "name": "stdout",
     "output_type": "stream",
     "text": [
      "name\n",
      "age\n"
     ]
    }
   ],
   "source": [
    "for x in E.keys():\n",
    "    print(x)"
   ]
  },
  {
   "cell_type": "code",
   "execution_count": 25,
   "id": "add7e437",
   "metadata": {},
   "outputs": [
    {
     "name": "stdout",
     "output_type": "stream",
     "text": [
      "max\n",
      "22\n"
     ]
    }
   ],
   "source": [
    "for x in E.values():\n",
    "    print(x)"
   ]
  },
  {
   "cell_type": "code",
   "execution_count": 26,
   "id": "ddc7cf7a",
   "metadata": {},
   "outputs": [
    {
     "name": "stdout",
     "output_type": "stream",
     "text": [
      "name max\n",
      "age 22\n"
     ]
    }
   ],
   "source": [
    "for key,value in E.items():\n",
    "    print(key,value)"
   ]
  },
  {
   "cell_type": "code",
   "execution_count": 30,
   "id": "b989362c",
   "metadata": {},
   "outputs": [
    {
     "name": "stdout",
     "output_type": "stream",
     "text": [
      "the vlaue of i 5\n",
      "the vlaue of i 7\n",
      "the vlaue of i 9\n",
      "the vlaue of i 11\n",
      "the vlaue of i 13\n",
      "the vlaue of i 15\n",
      "the vlaue of i 17\n",
      "the vlaue of i 19\n",
      "Finished for loop\n"
     ]
    }
   ],
   "source": [
    "for i in range(5,20,2):\n",
    "    print('the vlaue of i',i)\n",
    "    i+=1\n",
    "print('Finished for loop')"
   ]
  },
  {
   "cell_type": "code",
   "execution_count": 33,
   "id": "ed14a45c",
   "metadata": {},
   "outputs": [
    {
     "name": "stdout",
     "output_type": "stream",
     "text": [
      "10\n",
      "21\n"
     ]
    }
   ],
   "source": [
    "A = [10,21,32,43,54,45]\n",
    "\n",
    "for x in A:\n",
    "    if x ==32:\n",
    "        break\n",
    "    print(x)"
   ]
  },
  {
   "cell_type": "code",
   "execution_count": 38,
   "id": "bb78cda7",
   "metadata": {},
   "outputs": [
    {
     "name": "stdout",
     "output_type": "stream",
     "text": [
      "10\n",
      "21\n",
      "43\n",
      "54\n",
      "45\n"
     ]
    }
   ],
   "source": [
    "A = [10,21,32,43,54,45]\n",
    "\n",
    "for x in A:\n",
    "    if x ==32:\n",
    "        #print('32 is there')\n",
    "        continue\n",
    "    print(x)"
   ]
  },
  {
   "cell_type": "code",
   "execution_count": null,
   "id": "ab971c32",
   "metadata": {},
   "outputs": [],
   "source": []
  }
 ],
 "metadata": {
  "kernelspec": {
   "display_name": "Python 3 (ipykernel)",
   "language": "python",
   "name": "python3"
  },
  "language_info": {
   "codemirror_mode": {
    "name": "ipython",
    "version": 3
   },
   "file_extension": ".py",
   "mimetype": "text/x-python",
   "name": "python",
   "nbconvert_exporter": "python",
   "pygments_lexer": "ipython3",
   "version": "3.9.7"
  }
 },
 "nbformat": 4,
 "nbformat_minor": 5
}
