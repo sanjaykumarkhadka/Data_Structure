{
 "cells": [
  {
   "cell_type": "markdown",
   "id": "d7efa5df",
   "metadata": {},
   "source": [
    "\n",
    "# Functions"
   ]
  },
  {
   "cell_type": "code",
   "execution_count": 1,
   "id": "96f36e3e",
   "metadata": {},
   "outputs": [],
   "source": [
    "#print() input() min() # build-in function"
   ]
  },
  {
   "cell_type": "code",
   "execution_count": 2,
   "id": "e139ca51",
   "metadata": {},
   "outputs": [],
   "source": [
    "def sum(arg1,arg2):\n",
    "    \n",
    "    if type(arg1) != type(arg2):\n",
    "        \n",
    "        print('Please give args of same type')\n",
    "        return \n",
    "    \n",
    "    add = arg1+arg2\n",
    "    print('The sum of these two numbers are',add)"
   ]
  },
  {
   "cell_type": "code",
   "execution_count": 3,
   "id": "fb53c317",
   "metadata": {},
   "outputs": [
    {
     "name": "stdout",
     "output_type": "stream",
     "text": [
      "The sum of these two numbers are 91\n"
     ]
    }
   ],
   "source": [
    "sum(52,39)"
   ]
  },
  {
   "cell_type": "code",
   "execution_count": 4,
   "id": "b15af749",
   "metadata": {},
   "outputs": [
    {
     "name": "stdout",
     "output_type": "stream",
     "text": [
      "The sum of these two numbers are hello World\n"
     ]
    }
   ],
   "source": [
    "sum('hello',' World')"
   ]
  },
  {
   "cell_type": "code",
   "execution_count": 5,
   "id": "256513cf",
   "metadata": {},
   "outputs": [
    {
     "name": "stdout",
     "output_type": "stream",
     "text": [
      "Please give args of same type\n"
     ]
    }
   ],
   "source": [
    "sum('hello', 23)"
   ]
  },
  {
   "cell_type": "code",
   "execution_count": 6,
   "id": "595133d0",
   "metadata": {},
   "outputs": [
    {
     "data": {
      "text/plain": [
       "78.9"
      ]
     },
     "execution_count": 6,
     "metadata": {},
     "output_type": "execute_result"
    }
   ],
   "source": [
    "def sum(arg1,arg2):\n",
    "    \n",
    "    if type(arg1) != type(arg2):\n",
    "        \n",
    "        print('Please give args of same type')\n",
    "        return \n",
    "    \n",
    "    return arg1+arg2\n",
    "\n",
    "sum(23.0,55.9)"
   ]
  },
  {
   "cell_type": "code",
   "execution_count": 7,
   "id": "8dadd443",
   "metadata": {},
   "outputs": [
    {
     "data": {
      "text/plain": [
       "1620"
      ]
     },
     "execution_count": 7,
     "metadata": {},
     "output_type": "execute_result"
    }
   ],
   "source": [
    "def multiply(arg1,arg2):\n",
    "    \n",
    "    mul = arg1 * arg2\n",
    "    \n",
    "    return mul\n",
    "\n",
    "multiply(36,45)"
   ]
  },
  {
   "cell_type": "code",
   "execution_count": 8,
   "id": "3a04681c",
   "metadata": {},
   "outputs": [
    {
     "name": "stdout",
     "output_type": "stream",
     "text": [
      "name max\n",
      "age 20\n"
     ]
    }
   ],
   "source": [
    "def student(name='Unkown name',age=0):\n",
    "    \n",
    "    print('name',name)\n",
    "    print('age',age)\n",
    "    \n",
    "student('max',20)"
   ]
  },
  {
   "cell_type": "code",
   "execution_count": 9,
   "id": "917bad73",
   "metadata": {},
   "outputs": [
    {
     "name": "stdout",
     "output_type": "stream",
     "text": [
      "name Unkown name\n",
      "age 0\n"
     ]
    }
   ],
   "source": [
    "student()"
   ]
  },
  {
   "cell_type": "code",
   "execution_count": 10,
   "id": "0b0abe51",
   "metadata": {},
   "outputs": [
    {
     "name": "stdout",
     "output_type": "stream",
     "text": [
      "name tom\n",
      "age 0\n"
     ]
    }
   ],
   "source": [
    "student('tom')"
   ]
  },
  {
   "cell_type": "code",
   "execution_count": 11,
   "id": "46de0e2a",
   "metadata": {},
   "outputs": [
    {
     "name": "stdout",
     "output_type": "stream",
     "text": [
      "name max\n",
      "age 20\n",
      "marks {'english': 88, 'math': 66, 'physics': 78}\n",
      "english  88\n",
      "math  66\n",
      "physics  78\n"
     ]
    }
   ],
   "source": [
    "#*marks use at the end of the parameters\n",
    "#*marks gives as tuple\n",
    "#**can provide multiple values as dictionary\n",
    "\n",
    "def student(name,age,**marks):\n",
    "    \n",
    "    print('name',name)\n",
    "    print('age',age)\n",
    "    print('marks',marks)\n",
    "    \n",
    "    for key, values in marks.items():\n",
    "        \n",
    "        print(key, '', values)\n",
    "    \n",
    "    \n",
    "student('max',20,english=88,math=66,physics=78)"
   ]
  },
  {
   "cell_type": "markdown",
   "id": "dddd6aba",
   "metadata": {},
   "source": [
    "# lambda functions "
   ]
  },
  {
   "cell_type": "code",
   "execution_count": 12,
   "id": "2b9f54a2",
   "metadata": {},
   "outputs": [
    {
     "data": {
      "text/plain": [
       "8"
      ]
     },
     "execution_count": 12,
     "metadata": {},
     "output_type": "execute_result"
    }
   ],
   "source": [
    "# lambda functions\n",
    "\n",
    "def double(x):\n",
    "    \n",
    "    return x*2\n",
    "\n",
    "double(4)"
   ]
  },
  {
   "cell_type": "code",
   "execution_count": 13,
   "id": "a59bb95e",
   "metadata": {},
   "outputs": [
    {
     "data": {
      "text/plain": [
       "11"
      ]
     },
     "execution_count": 13,
     "metadata": {},
     "output_type": "execute_result"
    }
   ],
   "source": [
    "def add(x,y):\n",
    "    \n",
    "    return x+y\n",
    "\n",
    "add(4,7)"
   ]
  },
  {
   "cell_type": "code",
   "execution_count": 14,
   "id": "128c7745",
   "metadata": {},
   "outputs": [
    {
     "data": {
      "text/plain": [
       "90"
      ]
     },
     "execution_count": 14,
     "metadata": {},
     "output_type": "execute_result"
    }
   ],
   "source": [
    "def product(x,y,z):\n",
    "    \n",
    "    return x*y*z\n",
    "\n",
    "product(3,6,5)"
   ]
  },
  {
   "cell_type": "code",
   "execution_count": 15,
   "id": "adff803c",
   "metadata": {},
   "outputs": [],
   "source": [
    "double_lam = lambda x : x*2"
   ]
  },
  {
   "cell_type": "code",
   "execution_count": 16,
   "id": "43e76c93",
   "metadata": {},
   "outputs": [],
   "source": [
    "add_lam = lambda x,y : x+y"
   ]
  },
  {
   "cell_type": "code",
   "execution_count": 17,
   "id": "debbf7f8",
   "metadata": {},
   "outputs": [],
   "source": [
    "product_lam = lambda x,y,z : x*y*z"
   ]
  },
  {
   "cell_type": "code",
   "execution_count": 18,
   "id": "38162db4",
   "metadata": {},
   "outputs": [
    {
     "data": {
      "text/plain": [
       "4"
      ]
     },
     "execution_count": 18,
     "metadata": {},
     "output_type": "execute_result"
    }
   ],
   "source": [
    "double_lam(2)"
   ]
  },
  {
   "cell_type": "code",
   "execution_count": 19,
   "id": "8842b925",
   "metadata": {},
   "outputs": [
    {
     "data": {
      "text/plain": [
       "10"
      ]
     },
     "execution_count": 19,
     "metadata": {},
     "output_type": "execute_result"
    }
   ],
   "source": [
    "add_lam(4,6)"
   ]
  },
  {
   "cell_type": "code",
   "execution_count": 20,
   "id": "6ff71ef8",
   "metadata": {},
   "outputs": [
    {
     "data": {
      "text/plain": [
       "126"
      ]
     },
     "execution_count": 20,
     "metadata": {},
     "output_type": "execute_result"
    }
   ],
   "source": [
    "product_lam(3,6,7)"
   ]
  },
  {
   "cell_type": "markdown",
   "id": "a6097f72",
   "metadata": {},
   "source": [
    "## MAP function"
   ]
  },
  {
   "cell_type": "code",
   "execution_count": 21,
   "id": "6d8c82c4",
   "metadata": {},
   "outputs": [
    {
     "name": "stdout",
     "output_type": "stream",
     "text": [
      "Doubles the first list [24, 118, 92, 156, 186, 462]\n",
      "Adds the two list [124, 573, 492, 836, 1006, 2362]\n"
     ]
    }
   ],
   "source": [
    "#build-in function map\n",
    "\n",
    "my_list1 = [12,59,46,78,93,231]\n",
    "my_list2 = [112,514,446,758,913,2131]\n",
    "\n",
    "double_map = map(lambda x:x*2,my_list1) \n",
    "\n",
    "print('Doubles the first list',list(double_map))\n",
    "\n",
    "new_list = map(lambda x,y : x+y,my_list1,my_list2)\n",
    "\n",
    "print('Adds the two list',list(new_list))"
   ]
  },
  {
   "cell_type": "markdown",
   "id": "823123bd",
   "metadata": {},
   "source": [
    "## Filter function"
   ]
  },
  {
   "cell_type": "code",
   "execution_count": 22,
   "id": "727f95cc",
   "metadata": {},
   "outputs": [
    {
     "name": "stdout",
     "output_type": "stream",
     "text": [
      "[12, 46, 78]\n"
     ]
    }
   ],
   "source": [
    "filter_list = filter(lambda x:x%2==0,my_list1) #return only even numbers\n",
    "\n",
    "print(list(filter_list))"
   ]
  },
  {
   "cell_type": "code",
   "execution_count": 23,
   "id": "761c9036",
   "metadata": {},
   "outputs": [
    {
     "name": "stdout",
     "output_type": "stream",
     "text": [
      "[78, 93, 231]\n"
     ]
    }
   ],
   "source": [
    "filter_list2 = filter(lambda x:x>60,my_list1) #return value greater than 60\n",
    "print(list(filter_list2))"
   ]
  },
  {
   "cell_type": "markdown",
   "id": "ab185754",
   "metadata": {},
   "source": [
    "## Reduce function"
   ]
  },
  {
   "cell_type": "code",
   "execution_count": 24,
   "id": "da8d30a6",
   "metadata": {},
   "outputs": [
    {
     "name": "stdout",
     "output_type": "stream",
     "text": [
      "906\n"
     ]
    }
   ],
   "source": [
    "from functools import reduce #adds all the elements\n",
    "\n",
    "my_list = [12,59,46,78,93,231,342,45]\n",
    "reduce_fun = reduce(lambda x,y: x+y,my_list)\n",
    "\n",
    "print(reduce_fun)"
   ]
  },
  {
   "cell_type": "code",
   "execution_count": null,
   "id": "e5b7e1c9",
   "metadata": {},
   "outputs": [],
   "source": []
  }
 ],
 "metadata": {
  "kernelspec": {
   "display_name": "Python 3 (ipykernel)",
   "language": "python",
   "name": "python3"
  },
  "language_info": {
   "codemirror_mode": {
    "name": "ipython",
    "version": 3
   },
   "file_extension": ".py",
   "mimetype": "text/x-python",
   "name": "python",
   "nbconvert_exporter": "python",
   "pygments_lexer": "ipython3",
   "version": "3.9.7"
  }
 },
 "nbformat": 4,
 "nbformat_minor": 5
}
