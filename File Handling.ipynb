{
 "cells": [
  {
   "cell_type": "markdown",
   "id": "d2aa1d0a",
   "metadata": {},
   "source": [
    "# Read file"
   ]
  },
  {
   "cell_type": "code",
   "execution_count": 13,
   "id": "551d75d2",
   "metadata": {},
   "outputs": [],
   "source": [
    "fh = open('demo.txt','w')\n",
    "\n",
    "fh.write('Before performing any operation on the file like reading or writing, first, we have to open that file. For this, we should use Python’s inbuilt function open() but at the time of opening, we have to specify the mode, which represents the purpose of the opening file.')\n",
    "fh.close()"
   ]
  },
  {
   "cell_type": "code",
   "execution_count": 17,
   "id": "f9933a05",
   "metadata": {},
   "outputs": [],
   "source": [
    "fh = open('demo.txt','w') #over writes \n",
    "\n",
    "for i in range(10):\n",
    "    fh.write(\"this is line no %d\\n\" %(i+1))\n",
    "\n",
    "fh.close()"
   ]
  },
  {
   "cell_type": "code",
   "execution_count": 9,
   "id": "ed7cc927",
   "metadata": {},
   "outputs": [],
   "source": [
    "fh = open('demo.txt','a') # appends\n",
    "\n",
    "for i in range(10):\n",
    "    fh.write(\"this is line no %d\\n\" %(i+1))\n",
    "\n",
    "fh.close()"
   ]
  },
  {
   "cell_type": "code",
   "execution_count": 10,
   "id": "1a8c8048",
   "metadata": {},
   "outputs": [],
   "source": [
    "fh = open('demo.txt','w+') # writes and reads overwrites\n",
    "try:\n",
    "    for i in range(10):\n",
    "        fh.write(\"this is line no %d\\n\" %(i+1))\n",
    "finally:\n",
    "    fh.close()"
   ]
  },
  {
   "cell_type": "code",
   "execution_count": 12,
   "id": "f12dd937",
   "metadata": {},
   "outputs": [],
   "source": [
    "with open('C:\\\\Users\\\\Sanjay Khadka\\\\DevOps\\\\demo.txt','a') as fh:\n",
    "    for i in range(10):\n",
    "        fh.write(\"this is line no %d\\n\" %(i+1))"
   ]
  },
  {
   "cell_type": "markdown",
   "id": "a73511d7",
   "metadata": {},
   "source": [
    "# write file"
   ]
  },
  {
   "cell_type": "code",
   "execution_count": 14,
   "id": "dde2eb9f",
   "metadata": {},
   "outputs": [
    {
     "name": "stdout",
     "output_type": "stream",
     "text": [
      "Before performing any operation on the file like reading or writing, first, we have to open that file. For this, we should use Python’s inbuilt function open() but at the time of opening, we have to specify the mode, which represents the purpose of the opening file.\n"
     ]
    }
   ],
   "source": [
    "fh = open('demo.txt','r')\n",
    "\n",
    "print(fh.read())\n",
    "fh.close()"
   ]
  },
  {
   "cell_type": "code",
   "execution_count": 16,
   "id": "3793d7a7",
   "metadata": {},
   "outputs": [
    {
     "name": "stdout",
     "output_type": "stream",
     "text": [
      "Before performing any operation on the file like reading or writing, first, we have to open that file. For this, we should use Python’s inbuilt function open() but at the time of opening, we have to specify the mode, which represents the purpose of the opening file.\n"
     ]
    }
   ],
   "source": [
    "with open('demo.txt','r') as fh:\n",
    "    print(fh.read())"
   ]
  },
  {
   "cell_type": "code",
   "execution_count": 23,
   "id": "41f1e762",
   "metadata": {},
   "outputs": [
    {
     "name": "stdout",
     "output_type": "stream",
     "text": [
      "this is line no 1\n",
      "\n",
      "this \n",
      "is lin\n",
      "e no\n"
     ]
    }
   ],
   "source": [
    "fh = open('demo.txt','r')\n",
    "\n",
    "print(fh.readline())\n",
    "print(fh.readline(5))\n",
    "print(fh.readline(6))\n",
    "print(fh.readline(4))\n",
    "fh.close()"
   ]
  },
  {
   "cell_type": "code",
   "execution_count": 24,
   "id": "90c60e65",
   "metadata": {},
   "outputs": [
    {
     "name": "stdout",
     "output_type": "stream",
     "text": [
      "['this is line no 1\\n', 'this is line no 2\\n', 'this is line no 3\\n', 'this is line no 4\\n', 'this is line no 5\\n', 'this is line no 6\\n', 'this is line no 7\\n', 'this is line no 8\\n', 'this is line no 9\\n', 'this is line no 10\\n']\n"
     ]
    }
   ],
   "source": [
    "fh = open('demo.txt','r')\n",
    "\n",
    "print(fh.readlines())\n",
    "fh.close()"
   ]
  },
  {
   "cell_type": "code",
   "execution_count": 29,
   "id": "658855fb",
   "metadata": {},
   "outputs": [
    {
     "name": "stdout",
     "output_type": "stream",
     "text": [
      "this is line no 5\n",
      "\n"
     ]
    }
   ],
   "source": [
    "fh = open('demo.txt','r')\n",
    "\n",
    "print(fh.readlines()[4])\n",
    "fh.close()"
   ]
  },
  {
   "cell_type": "code",
   "execution_count": 35,
   "id": "e182e40d",
   "metadata": {},
   "outputs": [
    {
     "name": "stdout",
     "output_type": "stream",
     "text": [
      "5\n",
      "5\n",
      "5\n",
      "5\n",
      "5\n",
      "5\n",
      "5\n",
      "5\n",
      "5\n",
      "5\n"
     ]
    }
   ],
   "source": [
    "fh = open('demo.txt','r')\n",
    "\n",
    "for line in fh:\n",
    "    #print(line)\n",
    "    #print(len(line))\n",
    "    #print(line.split(' '))\n",
    "    print(len(line.split(' ')))\n",
    "fh.close()"
   ]
  },
  {
   "cell_type": "code",
   "execution_count": 36,
   "id": "cb2da0f4",
   "metadata": {},
   "outputs": [
    {
     "name": "stdout",
     "output_type": "stream",
     "text": [
      "18\n",
      "18\n",
      "18\n",
      "18\n",
      "18\n",
      "18\n",
      "18\n",
      "18\n",
      "18\n",
      "19\n"
     ]
    }
   ],
   "source": [
    "with open('demo.txt','r') as fh:\n",
    "    for line in fh:\n",
    "        print(len(line))"
   ]
  },
  {
   "cell_type": "markdown",
   "id": "7f30dd7c",
   "metadata": {},
   "source": [
    "#  Handling json files"
   ]
  },
  {
   "cell_type": "code",
   "execution_count": 39,
   "id": "b67c4b2d",
   "metadata": {},
   "outputs": [
    {
     "data": {
      "text/plain": [
       "'{\"name\": \"max\", \"age\": 22, \"marks\": [90, 66, 80, 56], \"pass\": true}'"
      ]
     },
     "execution_count": 39,
     "metadata": {},
     "output_type": "execute_result"
    }
   ],
   "source": [
    "import json\n",
    "\n",
    "a = {\n",
    "    'name':'max',\n",
    "    'age': 22,\n",
    "    'marks':[90,66,80,56],\n",
    "    'pass':True\n",
    "}\n",
    "\n",
    "json.dumps(a) #dictionary to json"
   ]
  },
  {
   "cell_type": "code",
   "execution_count": 41,
   "id": "f28010a1",
   "metadata": {},
   "outputs": [
    {
     "name": "stdout",
     "output_type": "stream",
     "text": [
      "{\"name\": \"max\", \"age\": 22}\n",
      "[1, 2]\n",
      "[\"1\", \"2\"]\n",
      "\"hello world\"\n",
      "100\n",
      "15.56\n",
      "true\n",
      "null\n"
     ]
    }
   ],
   "source": [
    "import json\n",
    "\n",
    "print(json.dumps({'name':'max','age':22}))\n",
    "print(json.dumps([1,2]))\n",
    "print(json.dumps(('1','2')))\n",
    "print(json.dumps('hello world'))\n",
    "print(json.dumps(100))\n",
    "print(json.dumps(15.56))\n",
    "print(json.dumps(True))\n",
    "print(json.dumps(None))"
   ]
  },
  {
   "cell_type": "code",
   "execution_count": 42,
   "id": "7ff6e32d",
   "metadata": {},
   "outputs": [
    {
     "data": {
      "text/plain": [
       "'{\"name\": \"max\", \"age\": 22, \"marks\": [90, 66, 80, 56], \"pass\": true, \"object\": {\"color\": [\"red\", \"blue\"]}}'"
      ]
     },
     "execution_count": 42,
     "metadata": {},
     "output_type": "execute_result"
    }
   ],
   "source": [
    "import json\n",
    "\n",
    "a = {\n",
    "    'name':'max',\n",
    "    'age': 22,\n",
    "    'marks':[90,66,80,56],\n",
    "    'pass':True,\n",
    "    'object': {\n",
    "        'color' : ('red','blue')\n",
    "    }\n",
    "}\n",
    "\n",
    "json.dumps(a) #dictionary to json"
   ]
  },
  {
   "cell_type": "code",
   "execution_count": 43,
   "id": "41a3fb92",
   "metadata": {},
   "outputs": [
    {
     "data": {
      "text/plain": [
       "'{\\n    \"name\": \"max\",\\n    \"age\": 22,\\n    \"marks\": [\\n        90,\\n        66,\\n        80,\\n        56\\n    ],\\n    \"pass\": true,\\n    \"object\": {\\n        \"color\": [\\n            \"red\",\\n            \"blue\"\\n        ]\\n    }\\n}'"
      ]
     },
     "execution_count": 43,
     "metadata": {},
     "output_type": "execute_result"
    }
   ],
   "source": [
    "json.dumps(a,indent=4)"
   ]
  },
  {
   "cell_type": "code",
   "execution_count": 44,
   "id": "72d1f793",
   "metadata": {},
   "outputs": [
    {
     "data": {
      "text/plain": [
       "'{\\n    \"name\"=\"max\".\\n    \"age\"=22.\\n    \"marks\"=[\\n        90.\\n        66.\\n        80.\\n        56\\n    ].\\n    \"pass\"=true.\\n    \"object\"={\\n        \"color\"=[\\n            \"red\".\\n            \"blue\"\\n        ]\\n    }\\n}'"
      ]
     },
     "execution_count": 44,
     "metadata": {},
     "output_type": "execute_result"
    }
   ],
   "source": [
    "json.dumps(a,indent=4,separators=('.','='))"
   ]
  },
  {
   "cell_type": "code",
   "execution_count": 45,
   "id": "5e03a001",
   "metadata": {},
   "outputs": [
    {
     "data": {
      "text/plain": [
       "'{\\n    \"age\": 22,\\n    \"marks\": [\\n        90,\\n        66,\\n        80,\\n        56\\n    ],\\n    \"name\": \"max\",\\n    \"object\": {\\n        \"color\": [\\n            \"red\",\\n            \"blue\"\\n        ]\\n    },\\n    \"pass\": true\\n}'"
      ]
     },
     "execution_count": 45,
     "metadata": {},
     "output_type": "execute_result"
    }
   ],
   "source": [
    "json.dumps(a,indent=4,sort_keys=True)"
   ]
  },
  {
   "cell_type": "code",
   "execution_count": 46,
   "id": "f2b1a5c4",
   "metadata": {},
   "outputs": [],
   "source": [
    "with open('demo.json','w') as fh:\n",
    "    fh.write(json.dumps(a,indent=4))\n",
    "    "
   ]
  },
  {
   "cell_type": "code",
   "execution_count": 52,
   "id": "30f6eab6",
   "metadata": {},
   "outputs": [
    {
     "name": "stdout",
     "output_type": "stream",
     "text": [
      "{\n",
      "    \"name\": \"max\",\n",
      "    \"age\": 22,\n",
      "    \"marks\": [\n",
      "        90,\n",
      "        66,\n",
      "        80,\n",
      "        56\n",
      "    ],\n",
      "    \"pass\": true,\n",
      "    \"object\": {\n",
      "        \"color\": [\n",
      "            \"red\",\n",
      "            \"blue\"\n",
      "        ]\n",
      "    }\n",
      "}\n"
     ]
    }
   ],
   "source": [
    "with open('demo.json','r') as fh:\n",
    "    print(fh.read())"
   ]
  },
  {
   "cell_type": "code",
   "execution_count": 56,
   "id": "cbc42442",
   "metadata": {},
   "outputs": [
    {
     "name": "stdout",
     "output_type": "stream",
     "text": [
      "{'name': 'max', 'age': 22, 'marks': [90, 66, 80, 56], 'pass': True, 'object': {'color': ['red', 'blue']}}\n"
     ]
    }
   ],
   "source": [
    "with open('demo.json','r') as fh:\n",
    "    json_str = fh.read()\n",
    "    json_value = json.loads(json_str)\n",
    "    print(json_value)"
   ]
  },
  {
   "cell_type": "code",
   "execution_count": null,
   "id": "b17da4b6",
   "metadata": {},
   "outputs": [],
   "source": []
  }
 ],
 "metadata": {
  "kernelspec": {
   "display_name": "Python 3 (ipykernel)",
   "language": "python",
   "name": "python3"
  },
  "language_info": {
   "codemirror_mode": {
    "name": "ipython",
    "version": 3
   },
   "file_extension": ".py",
   "mimetype": "text/x-python",
   "name": "python",
   "nbconvert_exporter": "python",
   "pygments_lexer": "ipython3",
   "version": "3.9.7"
  }
 },
 "nbformat": 4,
 "nbformat_minor": 5
}
