{
 "cells": [
  {
   "cell_type": "code",
   "execution_count": 1,
   "id": "7c8da77d",
   "metadata": {},
   "outputs": [
    {
     "name": "stdout",
     "output_type": "stream",
     "text": [
      "Number 1: 5\n",
      "Number 2: 6\n",
      "Result =  0.8333333333333334\n",
      "End\n"
     ]
    }
   ],
   "source": [
    "result = None\n",
    "\n",
    "a = float(input('Number 1: '))\n",
    "b = float(input('Number 2: '))\n",
    "\n",
    "try: \n",
    "    result = a/b\n",
    "except :\n",
    "    print('float divison by zero')\n",
    "print('Result = ',result)\n",
    "print('End')"
   ]
  },
  {
   "cell_type": "code",
   "execution_count": 2,
   "id": "42316c4f",
   "metadata": {},
   "outputs": [
    {
     "name": "stdout",
     "output_type": "stream",
     "text": [
      "Number 1: 6\n",
      "Number 2: 0\n",
      "Error =  <class 'ZeroDivisionError'>\n",
      "__finally__\n",
      "Result =  None\n",
      "End\n"
     ]
    }
   ],
   "source": [
    "result = None\n",
    "\n",
    "a = float(input('Number 1: '))\n",
    "b = float(input('Number 2: '))\n",
    "\n",
    "try: \n",
    "    result = a/b\n",
    "except ZeroDivisionError as e :\n",
    "    print('Error = ',type(e))\n",
    "except TypeError as e :\n",
    "    print('Error = ',type(e))\n",
    "else:\n",
    "    print('__else__')\n",
    "finally:\n",
    "    print('__finally__')\n",
    "    \n",
    "print('Result = ',result)\n",
    "print('End')"
   ]
  },
  {
   "cell_type": "code",
   "execution_count": 6,
   "id": "8ef627bf",
   "metadata": {},
   "outputs": [
    {
     "name": "stdout",
     "output_type": "stream",
     "text": [
      "number 15\n",
      "number 20\n",
      "unsupported operand type(s) for /: 'str' and 'str'\n"
     ]
    }
   ],
   "source": [
    "num1 = input('number 1')\n",
    "num2 = input('number 2')\n",
    "\n",
    "try:\n",
    "    result = float(num1) / num2\n",
    "    print(result)\n",
    "except Exception as e:\n",
    "    print(e)"
   ]
  },
  {
   "cell_type": "code",
   "execution_count": 3,
   "id": "262c7f71",
   "metadata": {},
   "outputs": [],
   "source": [
    "class CoffeeTooHotException(Exception):\n",
    "    def __init__(self,msg):\n",
    "        super().__init__(msg)\n",
    "\n",
    "class CoffeeTooColdException(Exception):\n",
    "    def __init__(self,msg):\n",
    "        super().__init__(msg)\n",
    "\n",
    "class CoffeeCup:\n",
    "    def __init__(self,temperature):\n",
    "        self.__temperature = temperature\n",
    "\n",
    "        \n",
    "    def drink_coffee(self):\n",
    "        if self.__temperature > 85 :\n",
    "            raise CoffeeTooHotException('Coffee Temperature:'+str(self.__temperature))\n",
    "            #print('coffee Too Hot')\n",
    "        elif self.__temperature < 65:\n",
    "            #print('Coffee Too cold')\n",
    "            raise CoffeeTooColdException('Coffee Temperature:'+str(self.__temperature))\n",
    "        else:\n",
    "            print('Coffee ok to Drink')"
   ]
  },
  {
   "cell_type": "code",
   "execution_count": 4,
   "id": "72020031",
   "metadata": {},
   "outputs": [
    {
     "name": "stdout",
     "output_type": "stream",
     "text": [
      "Coffee ok to Drink\n"
     ]
    }
   ],
   "source": [
    "cup = CoffeeCup(65)\n",
    "cup.drink_coffee()"
   ]
  },
  {
   "cell_type": "code",
   "execution_count": null,
   "id": "607c4ebc",
   "metadata": {},
   "outputs": [],
   "source": []
  }
 ],
 "metadata": {
  "kernelspec": {
   "display_name": "Python 3 (ipykernel)",
   "language": "python",
   "name": "python3"
  },
  "language_info": {
   "codemirror_mode": {
    "name": "ipython",
    "version": 3
   },
   "file_extension": ".py",
   "mimetype": "text/x-python",
   "name": "python",
   "nbconvert_exporter": "python",
   "pygments_lexer": "ipython3",
   "version": "3.9.7"
  }
 },
 "nbformat": 4,
 "nbformat_minor": 5
}
