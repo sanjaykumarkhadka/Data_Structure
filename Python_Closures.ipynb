{
 "cells": [
  {
   "cell_type": "markdown",
   "id": "882ea3ef",
   "metadata": {},
   "source": [
    "# Nested Function"
   ]
  },
  {
   "cell_type": "code",
   "execution_count": 1,
   "id": "c46adbaa",
   "metadata": {},
   "outputs": [
    {
     "name": "stdout",
     "output_type": "stream",
     "text": [
      "hello\n"
     ]
    }
   ],
   "source": [
    "def outerfunction(text): \n",
    "    def innerfunction():\n",
    "        print(text)\n",
    "    return innerfunction()\n",
    "    \n",
    "outerfunction('hello')"
   ]
  },
  {
   "cell_type": "code",
   "execution_count": 2,
   "id": "a45fd3c5",
   "metadata": {},
   "outputs": [
    {
     "name": "stdout",
     "output_type": "stream",
     "text": [
      "hello\n"
     ]
    }
   ],
   "source": [
    "def outerfunction(text): #closures\n",
    "    def innerfunction():\n",
    "        print(text)\n",
    "    return innerfunction\n",
    "    \n",
    "a=outerfunction('hello')\n",
    "a()"
   ]
  },
  {
   "cell_type": "code",
   "execution_count": 3,
   "id": "11c92f51",
   "metadata": {},
   "outputs": [
    {
     "name": "stdout",
     "output_type": "stream",
     "text": [
      "hello\n"
     ]
    }
   ],
   "source": [
    "def outerfunction(text): #closures\n",
    "    def innerfunction():\n",
    "        print(text)\n",
    "    return innerfunction\n",
    "    \n",
    "a=outerfunction('hello')\n",
    "del outerfunction\n",
    "a()"
   ]
  },
  {
   "cell_type": "code",
   "execution_count": 4,
   "id": "8bb23b94",
   "metadata": {},
   "outputs": [],
   "source": [
    "def nth_power(exponent): #closures\n",
    "    def pow_of(base):\n",
    "        return pow(base,exponent)\n",
    "    return pow_of"
   ]
  },
  {
   "cell_type": "code",
   "execution_count": 5,
   "id": "3faf975f",
   "metadata": {},
   "outputs": [
    {
     "data": {
      "text/plain": [
       "25"
      ]
     },
     "execution_count": 5,
     "metadata": {},
     "output_type": "execute_result"
    }
   ],
   "source": [
    "square = nth_power(2)\n",
    "square(5)"
   ]
  },
  {
   "cell_type": "code",
   "execution_count": 6,
   "id": "fd41ac78",
   "metadata": {},
   "outputs": [
    {
     "data": {
      "text/plain": [
       "4356"
      ]
     },
     "execution_count": 6,
     "metadata": {},
     "output_type": "execute_result"
    }
   ],
   "source": [
    "square(66)"
   ]
  },
  {
   "cell_type": "code",
   "execution_count": null,
   "id": "9b291417",
   "metadata": {},
   "outputs": [],
   "source": [
    "cube= "
   ]
  },
  {
   "cell_type": "code",
   "execution_count": 7,
   "id": "a387f0b7",
   "metadata": {},
   "outputs": [],
   "source": [
    "def pops(list):\n",
    "    def get_last_item(my_list):\n",
    "        return my_list[len(list)-1]\n",
    "    list.remove(get_last_item(list))\n",
    "    return list"
   ]
  },
  {
   "cell_type": "code",
   "execution_count": 8,
   "id": "7cbe0988",
   "metadata": {},
   "outputs": [
    {
     "data": {
      "text/plain": [
       "[2, 34, 65, 22]"
      ]
     },
     "execution_count": 8,
     "metadata": {},
     "output_type": "execute_result"
    }
   ],
   "source": [
    "a = [2,34,65,22,44]\n",
    "pops(a)"
   ]
  },
  {
   "cell_type": "code",
   "execution_count": 9,
   "id": "435b014d",
   "metadata": {},
   "outputs": [
    {
     "data": {
      "text/plain": [
       "[2, 34, 65]"
      ]
     },
     "execution_count": 9,
     "metadata": {},
     "output_type": "execute_result"
    }
   ],
   "source": [
    "pops(a)"
   ]
  },
  {
   "cell_type": "code",
   "execution_count": 10,
   "id": "cce88994",
   "metadata": {},
   "outputs": [
    {
     "data": {
      "text/plain": [
       "[2, 34]"
      ]
     },
     "execution_count": 10,
     "metadata": {},
     "output_type": "execute_result"
    }
   ],
   "source": [
    "pops(a)"
   ]
  },
  {
   "cell_type": "code",
   "execution_count": 11,
   "id": "227f6499",
   "metadata": {},
   "outputs": [
    {
     "data": {
      "text/plain": [
       "[2]"
      ]
     },
     "execution_count": 11,
     "metadata": {},
     "output_type": "execute_result"
    }
   ],
   "source": [
    "pops(a)"
   ]
  },
  {
   "cell_type": "code",
   "execution_count": 12,
   "id": "a772bb8f",
   "metadata": {},
   "outputs": [
    {
     "data": {
      "text/plain": [
       "[]"
      ]
     },
     "execution_count": 12,
     "metadata": {},
     "output_type": "execute_result"
    }
   ],
   "source": [
    "pops(a)"
   ]
  },
  {
   "cell_type": "code",
   "execution_count": null,
   "id": "cba57cbb",
   "metadata": {},
   "outputs": [],
   "source": []
  },
  {
   "cell_type": "code",
   "execution_count": null,
   "id": "55dd6b87",
   "metadata": {},
   "outputs": [],
   "source": []
  }
 ],
 "metadata": {
  "kernelspec": {
   "display_name": "Python 3 (ipykernel)",
   "language": "python",
   "name": "python3"
  },
  "language_info": {
   "codemirror_mode": {
    "name": "ipython",
    "version": 3
   },
   "file_extension": ".py",
   "mimetype": "text/x-python",
   "name": "python",
   "nbconvert_exporter": "python",
   "pygments_lexer": "ipython3",
   "version": "3.9.7"
  }
 },
 "nbformat": 4,
 "nbformat_minor": 5
}
